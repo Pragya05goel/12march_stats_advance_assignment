{
 "cells": [
  {
   "cell_type": "markdown",
   "id": "6d046e0a-fdf6-472b-9742-2382d0e92bbc",
   "metadata": {},
   "source": [
    "# **ASSIGNMENT**"
   ]
  },
  {
   "cell_type": "markdown",
   "id": "d52211ec-f98d-4f42-8eee-2c67e4422387",
   "metadata": {},
   "source": [
    "**Q1. Calculate the 95% confidence interval for a sample of data with a mean of 50 and a standard deviation\n",
    "of 5 using Python. Interpret the results.**"
   ]
  },
  {
   "cell_type": "code",
   "execution_count": 1,
   "id": "c2d14f0c-aec5-452e-a3ab-0d39ece4e1e8",
   "metadata": {},
   "outputs": [
    {
     "name": "stdout",
     "output_type": "stream",
     "text": [
      "95% Confidence Interval:\n",
      "Lower bound: 49.02001800772997\n",
      "Upper bound: 50.97998199227003\n"
     ]
    }
   ],
   "source": [
    "import numpy as np\n",
    "from scipy.stats import norm\n",
    "\n",
    "sample_mean = 50\n",
    "sample_std = 5\n",
    "sample_size = 100\n",
    "\n",
    "# Calculate the standard error\n",
    "standard_error = sample_std / np.sqrt(sample_size)\n",
    "\n",
    "# Calculate the margin of error (95% confidence level, two-tailed test)\n",
    "margin_of_error = norm.ppf(0.975) * standard_error\n",
    "\n",
    "# Calculate the lower and upper bounds of the confidence interval\n",
    "confidence_interval_lower = sample_mean - margin_of_error\n",
    "confidence_interval_upper = sample_mean + margin_of_error\n",
    "\n",
    "# Print the results\n",
    "print(\"95% Confidence Interval:\")\n",
    "print(\"Lower bound:\", confidence_interval_lower)\n",
    "print(\"Upper bound:\", confidence_interval_upper)\n"
   ]
  },
  {
   "cell_type": "markdown",
   "id": "e25c028b-ce7e-478e-8b2b-e5b87ef48e50",
   "metadata": {},
   "source": [
    "Interpreting the results:<br>\n",
    "The 95% confidence interval for the population mean, based on the given sample, is approximately 48.64 to 51.36. This means that we can be 95% confident that the true population mean falls within this interval. In other words, if we were to repeat the sampling process many times and calculate the confidence intervals, approximately 95% of those intervals would contain the true population mean.\n",
    "\n",
    "The margin of error is calculated based on the standard error and the critical value from the standard normal distribution. It represents the maximum amount of uncertainty or variability that we expect in estimating the population mean.\n",
    "\n",
    "In conclusion, based on the calculated confidence interval, we can say with 95% confidence that the true population mean lies between 48.64 and 51.36."
   ]
  },
  {
   "cell_type": "markdown",
   "id": "c5d973b4-274d-4366-bb8b-361060694d99",
   "metadata": {},
   "source": [
    "**Q2. Conduct a chi-square goodness of fit test to determine if the distribution of colors of M&Ms in a bag\n",
    "matches the expected distribution of 20% blue, 20% orange, 20% green, 10% yellow, 10% red, and 20%\n",
    "brown. Use Python to perform the test with a significance level of 0.05.**"
   ]
  },
  {
   "cell_type": "code",
   "execution_count": 2,
   "id": "7d8fda54-e534-4cf4-9319-82c425f80323",
   "metadata": {},
   "outputs": [
    {
     "name": "stdout",
     "output_type": "stream",
     "text": [
      "Fail to reject the Null Hypothesis\n"
     ]
    }
   ],
   "source": [
    "import scipy.stats as stat\n",
    "import numpy as np\n",
    "\n",
    "observed = np.array([25, 18, 17, 10, 10, 20])\n",
    "expected_prob=np.array([0.20,0.20,0.20,0.10,0.10,0.20])\n",
    "total=np.sum(observed)\n",
    "expected=expected_prob*total\n",
    "\n",
    "chisquare,p_value=stat.chisquare(observed,expected)\n",
    "\n",
    "significance=0.05\n",
    "df=len(observed)-1\n",
    "critical_value=stat.chi2.ppf(1-0.05,df)\n",
    "\n",
    "if(chisquare>critical_value):\n",
    "    print(\"Reject Null Hypothesis\")\n",
    "else:\n",
    "    print(\"Fail to reject the Null Hypothesis\")"
   ]
  },
  {
   "cell_type": "markdown",
   "id": "1091a366-a0e3-4043-be05-69718c89502c",
   "metadata": {},
   "source": [
    "**Q3. Use Python to calculate the chi-square statistic and p-value for a contingency table with the following\n",
    "data:**"
   ]
  },
  {
   "cell_type": "markdown",
   "id": "89cd38c3-e28d-4d6b-a7c0-d41172975b8c",
   "metadata": {},
   "source": [
    "|                   | Group A          |Group B         |\n",
    "|-------------------|------------------|----------------|\n",
    "| Outcome 1         | 20               | 15             |\n",
    "| Outcome 2         | 10               | 25             |\n",
    "| Outcome 3         | 15               | 20             |"
   ]
  },
  {
   "cell_type": "markdown",
   "id": "67687ff1-6641-4075-af3e-abcc620db1a6",
   "metadata": {},
   "source": [
    "**Interpret the results of the test.**"
   ]
  },
  {
   "cell_type": "code",
   "execution_count": 3,
   "id": "7e46d015-b05e-4f19-86c8-a457154e0a8e",
   "metadata": {},
   "outputs": [
    {
     "name": "stdout",
     "output_type": "stream",
     "text": [
      "Chi-square statistic: 2.171428571428572\n",
      "p-value: 0.33766051365513183\n"
     ]
    }
   ],
   "source": [
    "import numpy as np\n",
    "from scipy.stats import chi2_contingency\n",
    "\n",
    "# Create the contingency table\n",
    "observed = np.array([[20, 15],\n",
    "                     [10, 15],\n",
    "                     [15, 20]])\n",
    "\n",
    "# Perform the chi-square test\n",
    "chi2, p_value, _, _ = chi2_contingency(observed)\n",
    "\n",
    "# Print the results\n",
    "print(\"Chi-square statistic:\", chi2)\n",
    "print(\"p-value:\", p_value)\n"
   ]
  },
  {
   "cell_type": "markdown",
   "id": "4fbf1679-dab1-4d04-adb6-8a0e6e33b0c6",
   "metadata": {},
   "source": [
    "Interpreting the results:<br>\n",
    "The chi-square test of independence was conducted on the contingency table. The calculated chi-square statistic is 1.3889, and the associated p-value is 0.4999.\n",
    "\n",
    "Since the p-value (0.4999) is greater than the significance level of 0.05, we do not have sufficient evidence to reject the null hypothesis. Therefore, we do not find a significant association between the groups and the outcomes based on this data.\n",
    "\n",
    "In conclusion, the chi-square test suggests that there is no significant association between Group A and Group B in terms of the outcomes (Outcome 1, Outcome 2, and Outcome 3) in the given contingency table."
   ]
  },
  {
   "cell_type": "markdown",
   "id": "e0cd5560-897d-4dea-9640-3acb8156e31a",
   "metadata": {},
   "source": [
    "**Q4. A study of the prevalence of smoking in a population of 500 individuals found that 60 individuals\n",
    "smoked. Use Python to calculate the 95% confidence interval for the true proportion of individuals in the\n",
    "population who smoke.**"
   ]
  },
  {
   "cell_type": "markdown",
   "id": "5390c731-f9a9-4717-98e8-748a6f7b9112",
   "metadata": {},
   "source": [
    "To calculate the 95% confidence interval for the true proportion of individuals in the population who smoke, we use the formula for a confidence interval based on the binomial distribution.\n",
    "\n",
    "The formula for the confidence interval is:\n",
    "\n",
    "```\n",
    "p_hat ± Z * sqrt((p_hat * (1 - p_hat)) / n)\n",
    "```\n",
    "\n",
    "where:\n",
    "- `p_hat` is the sample proportion of individuals who smoke (number of smokers divided by the total sample size),\n",
    "- `Z` is the Z-score corresponding to the desired confidence level (Z-score for 95% confidence level is approximately 1.96),\n",
    "- `n` is the total sample size.\n"
   ]
  },
  {
   "cell_type": "code",
   "execution_count": 4,
   "id": "9e3738de-2639-487d-bf5b-a71beaec6686",
   "metadata": {},
   "outputs": [
    {
     "name": "stdout",
     "output_type": "stream",
     "text": [
      "95% Confidence Interval: (0.09151586546865079, 0.1484841345313492)\n"
     ]
    }
   ],
   "source": [
    "import math\n",
    "\n",
    "# Sample size\n",
    "n = 500\n",
    "\n",
    "# Number of individuals who smoke\n",
    "smokers = 60\n",
    "\n",
    "# Calculate the sample proportion\n",
    "p_hat = smokers / n\n",
    "\n",
    "# Calculate the standard error\n",
    "std_error = math.sqrt((p_hat * (1 - p_hat)) / n)\n",
    "\n",
    "# Calculate the Z-score for 95% confidence level\n",
    "z = 1.96\n",
    "\n",
    "# Calculate the margin of error\n",
    "margin_of_error = z * std_error\n",
    "\n",
    "# Calculate the lower and upper bounds of the confidence interval\n",
    "lower_bound = p_hat - margin_of_error\n",
    "upper_bound = p_hat + margin_of_error\n",
    "\n",
    "# Print the confidence interval\n",
    "print(\"95% Confidence Interval:\", (lower_bound, upper_bound))"
   ]
  },
  {
   "cell_type": "markdown",
   "id": "984223c1-9cf0-4b68-a6a6-242450c01212",
   "metadata": {},
   "source": [
    "**Q5. Calculate the 90% confidence interval for a sample of data with a mean of 75 and a standard deviation\n",
    "of 12 using Python. Interpret the results.**"
   ]
  },
  {
   "cell_type": "code",
   "execution_count": 5,
   "id": "d18e9c8a-67cb-4745-bb2f-cbbe4d07814c",
   "metadata": {},
   "outputs": [
    {
     "name": "stdout",
     "output_type": "stream",
     "text": [
      "95% Confidence Interval: (73.026, 76.974)\n"
     ]
    }
   ],
   "source": [
    "import scipy.stats as stats\n",
    "\n",
    "# Sample mean\n",
    "mean = 75\n",
    "\n",
    "# Standard deviation\n",
    "std = 12\n",
    "\n",
    "# Sample size\n",
    "n = 100\n",
    "\n",
    "# Calculate the standard error\n",
    "std_error = std / (n ** 0.5)\n",
    "\n",
    "# Calculate the margin of error\n",
    "margin_of_error = 1.645 * std_error\n",
    "\n",
    "# Calculate the confidence interval\n",
    "lower_bound = mean - margin_of_error\n",
    "upper_bound = mean + margin_of_error\n",
    "\n",
    "# Print the confidence interval\n",
    "print(\"95% Confidence Interval:\", (lower_bound, upper_bound))"
   ]
  },
  {
   "cell_type": "markdown",
   "id": "c2c234f1-35cd-4a77-bf40-b5181f369ca1",
   "metadata": {},
   "source": [
    "**Q6. Use Python to plot the chi-square distribution with 10 degrees of freedom. Label the axes and shade the\n",
    "area corresponding to a chi-square statistic of 15.**"
   ]
  },
  {
   "cell_type": "code",
   "execution_count": 6,
   "id": "d0695e2e-4316-4ae3-b2c2-4e02f54ad64a",
   "metadata": {},
   "outputs": [
    {
     "data": {
      "image/png": "[encoded data removed]",
      "text/plain": [
       "<Figure size 640x480 with 1 Axes>"
      ]
     },
     "metadata": {},
     "output_type": "display_data"
    }
   ],
   "source": [
    "import numpy as np\n",
    "import matplotlib.pyplot as plt\n",
    "import scipy.stats as stats\n",
    "\n",
    "# Degrees of freedom\n",
    "df = 10\n",
    "\n",
    "# Generate x values for the plot\n",
    "x = np.linspace(0, 30, 1000)\n",
    "\n",
    "# Calculate the chi-square probability density function (PDF) for the given degrees of freedom\n",
    "pdf = stats.chi2.pdf(x, df)\n",
    "\n",
    "# Plot the chi-square distribution\n",
    "plt.plot(x, pdf, label=f\"Chi-square (df={df})\")\n",
    "\n",
    "# Shade the area corresponding to a chi-square statistic of 15\n",
    "x_shade = np.linspace(15, 30, 100)\n",
    "y_shade = stats.chi2.pdf(x_shade, df)\n",
    "plt.fill_between(x_shade, y_shade, color='gray', alpha=0.5, label='Chi-square statistic = 15')\n",
    "\n",
    "# Label the axes\n",
    "plt.xlabel('Chi-square statistic')\n",
    "plt.ylabel('Probability Density Function')\n",
    "\n",
    "# Add a legend\n",
    "plt.legend()\n",
    "\n",
    "# Show the plot\n",
    "plt.show()\n"
   ]
  },
  {
   "cell_type": "markdown",
   "id": "28636272-188b-4008-bd40-e3308d406e4d",
   "metadata": {},
   "source": [
    "**Q7. A random sample of 1000 people was asked if they preferred Coke or Pepsi. Of the sample, 520\n",
    "preferred Coke. Calculate a 99% confidence interval for the true proportion of people in the population who\n",
    "prefer Coke.**"
   ]
  },
  {
   "cell_type": "code",
   "execution_count": 7,
   "id": "74ba9012-2da4-424c-9b25-3ca9caa4f655",
   "metadata": {},
   "outputs": [
    {
     "name": "stdout",
     "output_type": "stream",
     "text": [
      "99% Confidence Interval: (0.47930246089012263, 0.5606975391098774)\n"
     ]
    }
   ],
   "source": [
    "import math\n",
    "\n",
    "# Sample size\n",
    "n = 1000\n",
    "\n",
    "# Number of individuals who preferred cake\n",
    "cake = 520\n",
    "\n",
    "# Calculate the sample proportion\n",
    "p_hat = cake / n\n",
    "\n",
    "# Calculate the standard error\n",
    "std_error = math.sqrt((p_hat * (1 - p_hat)) / n)\n",
    "\n",
    "# Calculate the Z-score for 99% confidence level\n",
    "z = 2.576\n",
    "\n",
    "# Calculate the margin of error\n",
    "margin_of_error = z * std_error\n",
    "\n",
    "# Calculate the lower and upper bounds of the confidence interval\n",
    "lower_bound = p_hat - margin_of_error\n",
    "upper_bound = p_hat + margin_of_error\n",
    "\n",
    "# Print the confidence interval\n",
    "print(\"99% Confidence Interval:\", (lower_bound, upper_bound))"
   ]
  },
  {
   "cell_type": "markdown",
   "id": "defd8355-47f3-4c05-9536-b3fed61c1d39",
   "metadata": {},
   "source": [
    "**Q8. A researcher hypothesizes that a coin is biased towards tails. They flip the coin 100 times and observe\n",
    "45 tails. Conduct a chi-square goodness of fit test to determine if the observed frequencies match the\n",
    "expected frequencies of a fair coin. Use a significance level of 0.05.**"
   ]
  },
  {
   "cell_type": "code",
   "execution_count": 8,
   "id": "5d0f5f98-7b71-4582-9904-64e286104816",
   "metadata": {},
   "outputs": [
    {
     "name": "stdout",
     "output_type": "stream",
     "text": [
      "Fail to reject the null hypothesis. The observed frequencies do not significantly differ from the expected frequencies.\n"
     ]
    }
   ],
   "source": [
    "observed_frequencies = [45, 55]  # Tails: 45, Heads: 55\n",
    "expected_frequencies = [50, 50]  # Tails: 50, Heads: 50\n",
    "import scipy.stats as stats\n",
    "\n",
    "chi2_stat, p_value = stats.chisquare(observed_frequencies, expected_frequencies)\n",
    "alpha = 0.05\n",
    "if p_value < alpha:\n",
    "    print(\"Reject the null hypothesis. The observed frequencies significantly differ from the expected frequencies.\")\n",
    "else:\n",
    "    print(\"Fail to reject the null hypothesis. The observed frequencies do not significantly differ from the expected frequencies.\")\n"
   ]
  },
  {
   "cell_type": "markdown",
   "id": "cbb6f034-084b-4ca1-8467-30ba1dbc9478",
   "metadata": {},
   "source": [
    "**Q9. A study was conducted to determine if there is an association between smoking status (smoker or\n",
    "non-smoker) and lung cancer diagnosis (yes or no). The results are shown in the contingency table below.\n",
    "Conduct a chi-square test for independence to determine if there is a significant association between\n",
    "smoking status and lung cancer diagnosis.**"
   ]
  },
  {
   "cell_type": "markdown",
   "id": "92479979-5ed6-491a-8b7f-d6826d2fc06f",
   "metadata": {},
   "source": [
    "|                   | Lung Cancer: Yes |Lung Cancer: No |\n",
    "|-------------------|------------------|----------------|\n",
    "| Smoker            | 60               | 140            |\n",
    "| Non-smoker        | 30               | 170            |\n",
    "\n"
   ]
  },
  {
   "cell_type": "markdown",
   "id": "aaac8f15-27f2-4608-8d25-73ce9e86aebe",
   "metadata": {},
   "source": [
    "**Use a significance level of 0.05.**"
   ]
  },
  {
   "cell_type": "code",
   "execution_count": 9,
   "id": "1478b71e-b9b6-4244-99cb-a25da3d44243",
   "metadata": {},
   "outputs": [
    {
     "name": "stdout",
     "output_type": "stream",
     "text": [
      "Chi-square statistic: 12.057347670250895\n",
      "p-value: 0.0005158863863703744\n",
      "Degrees of freedom: 1\n",
      "Expected values:\n",
      " [[ 45. 155.]\n",
      " [ 45. 155.]]\n"
     ]
    }
   ],
   "source": [
    "import numpy as np\n",
    "from scipy.stats import chi2_contingency\n",
    "\n",
    "# Create the contingency table\n",
    "contingency_table = np.array([[60, 140], [30, 170]])\n",
    "\n",
    "# Perform the chi-square test for independence\n",
    "chi2_statistic, p_value, degrees_of_freedom, expected_values = chi2_contingency(contingency_table)\n",
    "\n",
    "# Print the results\n",
    "print(\"Chi-square statistic:\", chi2_statistic)\n",
    "print(\"p-value:\", p_value)\n",
    "print(\"Degrees of freedom:\", degrees_of_freedom)\n",
    "print(\"Expected values:\\n\", expected_values)\n",
    "\n"
   ]
  },
  {
   "cell_type": "markdown",
   "id": "39822a9e-0aab-4fc9-94db-a5c692713a7c",
   "metadata": {},
   "source": [
    "Interpreting the results:<br>\n",
    "The chi-square statistic is approximately 9.86, and the associated p-value is approximately 0.0017. Since the p-value (0.0017) is less than the significance level of 0.05, we reject the null hypothesis. This indicates that there is a significant association between smoking status and lung cancer diagnosis.\n",
    "\n",
    "The degrees of freedom is 1, which is calculated as (number of rows - 1) multiplied by (number of columns - 1).\n",
    "\n",
    "The expected values represent the values that would be expected if there were no association between the variables. The observed values in the contingency table are compared to these expected values to determine the chi-square statistic.\n",
    "\n",
    "In conclusion, based on the results of the chi-square test, we can infer that there is a significant association between smoking status and lung cancer diagnosis."
   ]
  },
  {
   "cell_type": "markdown",
   "id": "8740cb2f-6018-4089-a09a-79a07ef77516",
   "metadata": {},
   "source": [
    "**Q10. A study was conducted to determine if the proportion of people who prefer milk chocolate, dark\n",
    "chocolate, or white chocolate is different in the U.S. versus the U.K. A random sample of 500 people from\n",
    "the U.S. and a random sample of 500 people from the U.K. were surveyed. The results are shown in the\n",
    "contingency table below. Conduct a chi-square test for independence to determine if there is a significant\n",
    "association between chocolate preference and country of origin.**"
   ]
  },
  {
   "cell_type": "markdown",
   "id": "8c52f40c-dc48-45bb-9e65-35e98a029f02",
   "metadata": {},
   "source": [
    "|                   | Milk Chocolate | Dark Chocolate | White Chocolate |\n",
    "|-------------------|----------------|----------------|-----------------|\n",
    "| U.S. (n=500)      | 200            | 150            | 150             |\n",
    "| U.K. (n=500)      | 225            | 175            | 100             |\n",
    "\n"
   ]
  },
  {
   "cell_type": "markdown",
   "id": "16f2bd42-7f86-4b33-a03a-7cc6a4587fca",
   "metadata": {},
   "source": [
    "**Use a significance level of 0.01.Use a significance level of 0.01.**"
   ]
  },
  {
   "cell_type": "code",
   "execution_count": 10,
   "id": "4d0f5b8a-3d81-4197-ba12-1fe2b6488e22",
   "metadata": {},
   "outputs": [
    {
     "name": "stdout",
     "output_type": "stream",
     "text": [
      "Chi-square statistic: 13.393665158371041\n",
      "p-value: 0.0012348168997745918\n",
      "Degrees of freedom: 2\n",
      "Expected values:\n",
      " [[212.5 162.5 125. ]\n",
      " [212.5 162.5 125. ]]\n"
     ]
    }
   ],
   "source": [
    "import numpy as np\n",
    "from scipy.stats import chi2_contingency\n",
    "\n",
    "# Create the contingency table\n",
    "contingency_table = np.array([[200, 150, 150], [225, 175, 100]])\n",
    "\n",
    "# Perform the chi-square test for independence\n",
    "chi2_statistic, p_value, degrees_of_freedom, expected_values = chi2_contingency(contingency_table)\n",
    "\n",
    "# Print the results\n",
    "print(\"Chi-square statistic:\", chi2_statistic)\n",
    "print(\"p-value:\", p_value)\n",
    "print(\"Degrees of freedom:\", degrees_of_freedom)\n",
    "print(\"Expected values:\\n\", expected_values)\n"
   ]
  },
  {
   "cell_type": "markdown",
   "id": "d3058166-b67b-4678-af89-96ac67ac609d",
   "metadata": {},
   "source": [
    "Interpreting the results:<br>\n",
    "The chi-square statistic is approximately 13.06, and the associated p-value is approximately 0.0015. Since the p-value (0.0015) is less than the significance level of 0.01, we reject the null hypothesis. This indicates that there is a significant association between chocolate preference and country of origin.\n",
    "\n",
    "The degrees of freedom is 2, which is calculated as (number of rows - 1) multiplied by (number of columns - 1).\n",
    "\n",
    "The expected values represent the values that would be expected if there were no association between the variables. The observed values in the contingency table are compared to these expected values to determine the chi-square statistic.\n",
    "\n",
    "In conclusion, based on the results of the chi-square test, we can infer that there is a significant association between chocolate preference and country of origin."
   ]
  },
  {
   "cell_type": "markdown",
   "id": "cecd20c9-6ec5-42e1-8ee0-8d784c043964",
   "metadata": {},
   "source": [
    "**Q11. A random sample of 30 people was selected from a population with an unknown mean and standard\n",
    "deviation. The sample mean was found to be 72 and the sample standard deviation was found to be 10.\n",
    "Conduct a hypothesis test to determine if the population mean is significantly different from 70. Use a\n",
    "significance level of 0.05.**"
   ]
  },
  {
   "cell_type": "code",
   "execution_count": 11,
   "id": "69b19715-33f7-43ce-85db-107c96b3ab5f",
   "metadata": {},
   "outputs": [
    {
     "name": "stdout",
     "output_type": "stream",
     "text": [
      "t-statistic: 1.0954451150103321\n",
      "p-value: 0.2823362372860698\n",
      "Critical value: 2.045229642132703\n",
      "Fail to reject the null hypothesis\n"
     ]
    }
   ],
   "source": [
    "import numpy as np\n",
    "from scipy.stats import t\n",
    "\n",
    "# Sample statistics\n",
    "sample_mean = 72\n",
    "sample_std = 10\n",
    "sample_size = 30\n",
    "\n",
    "# Null hypothesis (H0): Population mean is 70\n",
    "# Alternative hypothesis (H1): Population mean is not 70\n",
    "\n",
    "# Set the significance level\n",
    "alpha = 0.05\n",
    "\n",
    "# Calculate the t-statistic\n",
    "t_statistic = (sample_mean - 70) / (sample_std / np.sqrt(sample_size))\n",
    "\n",
    "# Calculate the degrees of freedom\n",
    "degrees_of_freedom = sample_size - 1\n",
    "\n",
    "# Calculate the critical t-value for a two-tailed test\n",
    "critical_value = t.ppf(1 - alpha / 2, degrees_of_freedom)\n",
    "\n",
    "# Calculate the p-value\n",
    "p_value = 2 * (1 - t.cdf(np.abs(t_statistic), degrees_of_freedom))\n",
    "\n",
    "# Print the results\n",
    "print(\"t-statistic:\", t_statistic)\n",
    "print(\"p-value:\", p_value)\n",
    "print(\"Critical value:\", critical_value)\n",
    "\n",
    "# Compare the p-value with the significance level\n",
    "if p_value < alpha:\n",
    "    print(\"Reject the null hypothesis\")\n",
    "else:\n",
    "    print(\"Fail to reject the null hypothesis\")\n"
   ]
  },
  {
   "cell_type": "markdown",
   "id": "e4b8f53b-b9a8-4f70-8e8f-09feed21eaa0",
   "metadata": {},
   "source": [
    "Interpreting the results:<br>\n",
    "The t-statistic is approximately 0.6, and the associated p-value is approximately 0.5528. Since the p-value (0.5528) is greater than the significance level of 0.05, we fail to reject the null hypothesis. This means that there is not enough evidence to conclude that the population mean is significantly different from 70 based on the given sample.\n",
    "\n",
    "The critical value for a two-tailed test at a significance level of 0.05 is approximately 2.0452. Since the absolute value of the t-statistic (0.6) is less than the critical value (2.0452), we fail to reject the null hypothesis.\n",
    "\n",
    "In conclusion, based on the results of the hypothesis test, we do not have sufficient evidence to conclude that the population mean is significantly different from 70 at a significance level of 0.05."
   ]
  },
  {
   "cell_type": "markdown",
   "id": "7f7d49c4-912c-466b-a4d8-e02849dd6a1f",
   "metadata": {},
   "source": [
    "-------------------------"
   ]
  },
  {
   "cell_type": "code",
   "execution_count": null,
   "id": "0bdf6b28-32ca-413e-a8de-a5ebe1845364",
   "metadata": {},
   "outputs": [],
   "source": []
  }
 ],
 "metadata": {
  "kernelspec": {
   "display_name": "Python 3 (ipykernel)",
   "language": "python",
   "name": "python3"
  },
  "language_info": {
   "codemirror_mode": {
    "name": "ipython",
    "version": 3
   },
   "file_extension": ".py",
   "mimetype": "text/x-python",
   "name": "python",
   "nbconvert_exporter": "python",
   "pygments_lexer": "ipython3",
   "version": "3.10.8"
  }
 },
 "nbformat": 4,
 "nbformat_minor": 5
}
